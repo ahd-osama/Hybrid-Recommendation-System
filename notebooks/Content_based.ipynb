{
 "cells": [
  {
   "cell_type": "code",
   "execution_count": null,
   "id": "7e5a69e7",
   "metadata": {},
   "outputs": [],
   "source": [
    "import numpy as np\n",
    "import pandas as pd\n",
    "from sklearn.feature_extraction.text import TfidfVectorizer\n",
    "from sklearn.metrics.pairwise import cosine_similarity\n",
    "\n",
    "movies_data = pd.read_csv(\"data/cleaned_movies.csv\")"
   ]
  },
  {
   "cell_type": "code",
   "execution_count": null,
   "id": "73e2022e",
   "metadata": {},
   "outputs": [],
   "source": [
    "rating_data = pd.read_csv(\"data/ratings.csv\")"
   ]
  },
  {
   "cell_type": "code",
   "execution_count": 2,
   "id": "c9df7e0b",
   "metadata": {},
   "outputs": [
    {
     "name": "stdout",
     "output_type": "stream",
     "text": [
      "TF-IDF matrix shape: (9742, 5000)\n",
      "Cosine similarity matrix shape: (9742, 9742)\n"
     ]
    }
   ],
   "source": [
    "# Initialize TF-IDF Vectorizer (you can tune parameters if needed)\n",
    "tfidf = TfidfVectorizer(stop_words='english', max_features=5000)\n",
    "\n",
    "# Fit and transform the 'text' column into TF-IDF matrix\n",
    "tfidf_matrix = tfidf.fit_transform(movies_data['text'])\n",
    "\n",
    "# Compute cosine similarity matrix between all movies\n",
    "cosine_sim = cosine_similarity(tfidf_matrix, tfidf_matrix)\n",
    "\n",
    "print(f\"TF-IDF matrix shape: {tfidf_matrix.shape}\")\n",
    "print(f\"Cosine similarity matrix shape: {cosine_sim.shape}\")"
   ]
  },
  {
   "cell_type": "code",
   "execution_count": null,
   "id": "68f60d94",
   "metadata": {},
   "outputs": [
    {
     "name": "stdout",
     "output_type": "stream",
     "text": [
      "top similarity scores for this movie\n"
     ]
    },
    {
     "data": {
      "text/html": [
       "<div>\n",
       "<style scoped>\n",
       "    .dataframe tbody tr th:only-of-type {\n",
       "        vertical-align: middle;\n",
       "    }\n",
       "\n",
       "    .dataframe tbody tr th {\n",
       "        vertical-align: top;\n",
       "    }\n",
       "\n",
       "    .dataframe thead th {\n",
       "        text-align: right;\n",
       "    }\n",
       "</style>\n",
       "<table border=\"1\" class=\"dataframe\">\n",
       "  <thead>\n",
       "    <tr style=\"text-align: right;\">\n",
       "      <th></th>\n",
       "      <th>title</th>\n",
       "      <th>genres</th>\n",
       "      <th>similarity_score</th>\n",
       "    </tr>\n",
       "  </thead>\n",
       "  <tbody>\n",
       "    <tr>\n",
       "      <th>0</th>\n",
       "      <td>balto (1995)</td>\n",
       "      <td>adventure animation children</td>\n",
       "      <td>0.569890</td>\n",
       "    </tr>\n",
       "    <tr>\n",
       "      <th>1</th>\n",
       "      <td>gordy (1995)</td>\n",
       "      <td>children comedy fantasy</td>\n",
       "      <td>0.552885</td>\n",
       "    </tr>\n",
       "    <tr>\n",
       "      <th>2</th>\n",
       "      <td>now and then (1995)</td>\n",
       "      <td>children drama</td>\n",
       "      <td>0.504146</td>\n",
       "    </tr>\n",
       "    <tr>\n",
       "      <th>3</th>\n",
       "      <td>fluke (1995)</td>\n",
       "      <td>children drama</td>\n",
       "      <td>0.504146</td>\n",
       "    </tr>\n",
       "    <tr>\n",
       "      <th>4</th>\n",
       "      <td>pyromaniac's love story, a (1995)</td>\n",
       "      <td>comedy romance</td>\n",
       "      <td>0.495498</td>\n",
       "    </tr>\n",
       "  </tbody>\n",
       "</table>\n",
       "</div>"
      ],
      "text/plain": [
       "                               title                        genres  \\\n",
       "0                       balto (1995)  adventure animation children   \n",
       "1                       gordy (1995)       children comedy fantasy   \n",
       "2                now and then (1995)                children drama   \n",
       "3                       fluke (1995)                children drama   \n",
       "4  pyromaniac's love story, a (1995)                comedy romance   \n",
       "\n",
       "   similarity_score  \n",
       "0          0.569890  \n",
       "1          0.552885  \n",
       "2          0.504146  \n",
       "3          0.504146  \n",
       "4          0.495498  "
      ]
     },
     "execution_count": 12,
     "metadata": {},
     "output_type": "execute_result"
    }
   ],
   "source": [
    "# Helper: map movie titles to their index in movies_data\n",
    "title_to_index = pd.Series(movies_data.index, index=movies_data['title']).drop_duplicates()\n",
    "\n",
    "def get_content_recommendations(title, top_n=10):\n",
    "    # Check if movie exists in dataset\n",
    "    if title not in title_to_index:\n",
    "        return f\"Movie '{title}' not found in dataset.\"\n",
    "    \n",
    "    idx = title_to_index[title]\n",
    "    \n",
    "    # Get pairwise similarity scores for this movie to all others\n",
    "    sim_scores = list(enumerate(cosine_sim[idx]))\n",
    "    \n",
    "    # Sort movies based on similarity scores (descending)\n",
    "    sim_scores = sorted(sim_scores, key=lambda x: x[1], reverse=True)\n",
    "    \n",
    "    # Exclude the movie itself and get top N similar movies\n",
    "    sim_scores = sim_scores[1:top_n+1]\n",
    "    \n",
    "    # Get movie indices\n",
    "    movie_indices = [i[0] for i in sim_scores]\n",
    "    \n",
    "    # Return recommended movie titles and genres\n",
    "    recommended = movies_data.iloc[movie_indices][['title', 'genres']]\n",
    "    recommended['similarity_score'] = [i[1] for i in sim_scores]\n",
    "    \n",
    "    return recommended.reset_index(drop=True)\n",
    "\n",
    "# Example usage:\n",
    "print(\"top similarity scores for this movie\")\n",
    "get_content_recommendations('toy story (1995)', top_n=5)\n"
   ]
  },
  {
   "cell_type": "markdown",
   "id": "4082d995",
   "metadata": {},
   "source": [
    "This function takes a movie title and finds the most similar movies based on precomputed cosine similarity scores from TF-IDF features. It excludes the input movie itself and returns the top N most similar movies with their titles, genres, and similarity scores. This enables content-based recommendations by comparing movies’ textual metadata.\n",
    "\n"
   ]
  },
  {
   "cell_type": "code",
   "execution_count": null,
   "id": "d20fb003",
   "metadata": {},
   "outputs": [
    {
     "name": "stdout",
     "output_type": "stream",
     "text": [
      "Content-based recommendations for user 1:\n",
      "\n"
     ]
    },
    {
     "data": {
      "text/html": [
       "<div>\n",
       "<style scoped>\n",
       "    .dataframe tbody tr th:only-of-type {\n",
       "        vertical-align: middle;\n",
       "    }\n",
       "\n",
       "    .dataframe tbody tr th {\n",
       "        vertical-align: top;\n",
       "    }\n",
       "\n",
       "    .dataframe thead th {\n",
       "        text-align: right;\n",
       "    }\n",
       "</style>\n",
       "<table border=\"1\" class=\"dataframe\">\n",
       "  <thead>\n",
       "    <tr style=\"text-align: right;\">\n",
       "      <th></th>\n",
       "      <th>title</th>\n",
       "      <th>genres</th>\n",
       "      <th>similarity_score</th>\n",
       "    </tr>\n",
       "  </thead>\n",
       "  <tbody>\n",
       "    <tr>\n",
       "      <th>0</th>\n",
       "      <td>antz (1998)</td>\n",
       "      <td>adventure animation children comedy fantasy</td>\n",
       "      <td>0.093506</td>\n",
       "    </tr>\n",
       "    <tr>\n",
       "      <th>1</th>\n",
       "      <td>merlin (1998)</td>\n",
       "      <td>action adventure drama fantasy romance</td>\n",
       "      <td>0.093183</td>\n",
       "    </tr>\n",
       "    <tr>\n",
       "      <th>2</th>\n",
       "      <td>legionnaire (1998)</td>\n",
       "      <td>action adventure drama war</td>\n",
       "      <td>0.085102</td>\n",
       "    </tr>\n",
       "    <tr>\n",
       "      <th>3</th>\n",
       "      <td>batman/superman movie, the (1998)</td>\n",
       "      <td>action adventure animation children fantasy sc...</td>\n",
       "      <td>0.083053</td>\n",
       "    </tr>\n",
       "    <tr>\n",
       "      <th>4</th>\n",
       "      <td>spriggan (supurigan) (1998)</td>\n",
       "      <td>action animation sci-fi</td>\n",
       "      <td>0.078812</td>\n",
       "    </tr>\n",
       "  </tbody>\n",
       "</table>\n",
       "</div>"
      ],
      "text/plain": [
       "                               title  \\\n",
       "0                        antz (1998)   \n",
       "1                      merlin (1998)   \n",
       "2                 legionnaire (1998)   \n",
       "3  batman/superman movie, the (1998)   \n",
       "4        spriggan (supurigan) (1998)   \n",
       "\n",
       "                                              genres  similarity_score  \n",
       "0        adventure animation children comedy fantasy          0.093506  \n",
       "1             action adventure drama fantasy romance          0.093183  \n",
       "2                         action adventure drama war          0.085102  \n",
       "3  action adventure animation children fantasy sc...          0.083053  \n",
       "4                            action animation sci-fi          0.078812  "
      ]
     },
     "execution_count": 10,
     "metadata": {},
     "output_type": "execute_result"
    }
   ],
   "source": [
    "def content_based_recommendations_for_user(user_id, rating_threshold=4, top_n=5):\n",
    "    # Movies the user liked\n",
    "    liked_movies = rating_data[(rating_data['userId'] == user_id) & (rating_data['rating'] >= rating_threshold)]['movieId'].tolist()\n",
    "    \n",
    "    if not liked_movies:\n",
    "        return pd.DataFrame(columns=['title', 'genres', 'similarity_score']).append({'title': 'No liked movies found for user.', 'genres': '', 'similarity_score': 0}, ignore_index=True)\n",
    "    \n",
    "    sim_scores = np.zeros(len(movies_data))\n",
    "    \n",
    "    for movie_id in liked_movies:\n",
    "        try:\n",
    "            idx = movies_data[movies_data['movieId'] == movie_id].index[0]\n",
    "            sim_scores += cosine_sim[idx]\n",
    "        except IndexError:\n",
    "            continue\n",
    "    \n",
    "    sim_scores = sim_scores / len(liked_movies)\n",
    "    \n",
    "    # Remove movies the user already rated\n",
    "    rated_movie_indices = movies_data[movies_data['movieId'].isin(liked_movies)].index\n",
    "    sim_scores[rated_movie_indices] = -1  # exclude already liked/rated movies\n",
    "    \n",
    "    recommended_indices = sim_scores.argsort()[::-1][:top_n]\n",
    "    recommended = movies_data.iloc[recommended_indices][['title', 'genres']].copy()\n",
    "    recommended['similarity_score'] = sim_scores[recommended_indices]\n",
    "    \n",
    "    return recommended.reset_index(drop=True)\n",
    "\n",
    "# Example usage:\n",
    "user_id = 1\n",
    "recommendations = content_based_recommendations_for_user(user_id=user_id, top_n=5)\n",
    "print(f\"Content-based recommendations for user {user_id}:\\n\")\n",
    "recommendations"
   ]
  },
  {
   "cell_type": "markdown",
   "id": "a3a27e4d",
   "metadata": {},
   "source": [
    "This script creates a quick lookup table mapping movie titles to their row indices in the movies dataset. It allows fast access to a movie’s index needed for similarity calculations. This mapping ensures efficient retrieval without searching through the entire DataFrame repeatedly."
   ]
  },
  {
   "cell_type": "code",
   "execution_count": 13,
   "id": "f63b07ff",
   "metadata": {},
   "outputs": [],
   "source": [
    "import numpy as np\n",
    "\n",
    "np.save(r'..\\data\\cosine_sim.npy', cosine_sim)"
   ]
  }
 ],
 "metadata": {
  "kernelspec": {
   "display_name": "Python 3",
   "language": "python",
   "name": "python3"
  },
  "language_info": {
   "codemirror_mode": {
    "name": "ipython",
    "version": 3
   },
   "file_extension": ".py",
   "mimetype": "text/x-python",
   "name": "python",
   "nbconvert_exporter": "python",
   "pygments_lexer": "ipython3",
   "version": "3.8.10"
  }
 },
 "nbformat": 4,
 "nbformat_minor": 5
}
