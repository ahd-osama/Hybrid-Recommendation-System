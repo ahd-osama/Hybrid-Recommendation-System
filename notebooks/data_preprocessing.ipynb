{
 "cells": [
  {
   "cell_type": "code",
   "execution_count": null,
   "id": "aeac50bb",
   "metadata": {},
   "outputs": [],
   "source": [
    "import numpy as np \n",
    "import pandas as pd\n",
    "import os"
   ]
  },
  {
   "cell_type": "code",
   "execution_count": null,
   "id": "68f980a1",
   "metadata": {},
   "outputs": [],
   "source": [
    "movies_path = os.path.join(\"..\\data\",\"movies.csv\")\n",
    "rating_path = os.path.join(\"..\\data\",\"ratings.csv\")\n",
    "tags_path = os.path.join(\"..\\data\",\"tags.csv\")\n",
    "\n",
    "movies_data = pd.read_csv(movies_path)\n",
    "rating_data =  pd.read_csv(rating_path)\n",
    "tags_data = pd.read_csv(tags_path)"
   ]
  },
  {
   "cell_type": "code",
   "execution_count": 20,
   "id": "9fce128c",
   "metadata": {},
   "outputs": [
    {
     "name": "stdout",
     "output_type": "stream",
     "text": [
      "movieId    0\n",
      "title      0\n",
      "genres     0\n",
      "year       0\n",
      "text       0\n",
      "tag        0\n",
      "dtype: int64\n",
      "userId       0\n",
      "movieId      0\n",
      "rating       0\n",
      "timestamp    0\n",
      "dtype: int64\n",
      "userId       0\n",
      "movieId      0\n",
      "tag          0\n",
      "timestamp    0\n",
      "dtype: int64\n"
     ]
    }
   ],
   "source": [
    "print(movies_data.isnull().sum())\n",
    "print(rating_data.isnull().sum())\n",
    "print(tags_data.isnull().sum())"
   ]
  },
  {
   "cell_type": "code",
   "execution_count": 21,
   "id": "490e27e8",
   "metadata": {},
   "outputs": [
    {
     "name": "stdout",
     "output_type": "stream",
     "text": [
      "(9742, 6)\n",
      "(100836, 4)\n"
     ]
    }
   ],
   "source": [
    "print(movies_data.shape)\n",
    "print(rating_data.shape)"
   ]
  },
  {
   "cell_type": "code",
   "execution_count": 22,
   "id": "ba3c2425",
   "metadata": {},
   "outputs": [
    {
     "name": "stdout",
     "output_type": "stream",
     "text": [
      "movieId    0\n",
      "title      0\n",
      "genres     0\n",
      "year       0\n",
      "text       0\n",
      "tag        0\n",
      "dtype: int64\n",
      "duplicates : 0\n"
     ]
    }
   ],
   "source": [
    "print(movies_data.isna().sum())\n",
    "print(f\"duplicates : {movies_data.duplicated().sum()}\")"
   ]
  },
  {
   "cell_type": "code",
   "execution_count": null,
   "id": "5fa01938",
   "metadata": {},
   "outputs": [],
   "source": [
    "movies_data['genres'] = movies_data['genres'].str.replace('|', ' ').str.lower()\n",
    "movies_data['year'] = movies_data['title'].str.extract(r'\\((\\d{4})\\)').astype(float)\n",
    "movies_data['title'] = movies_data['title'].str.lower()\n",
    "\n",
    "movies_data['year'] = movies_data['year'].fillna(0).astype(int).astype(str)  # convert NaNs to '0' or ''\n",
    "movies_data['text'] = movies_data['title'] + ' ' + movies_data['genres'] + ' ' + movies_data['year']\n",
    "\n",
    "\n"
   ]
  },
  {
   "cell_type": "code",
   "execution_count": null,
   "id": "f0b9e909",
   "metadata": {},
   "outputs": [],
   "source": [
    "movies_data.head(6)"
   ]
  },
  {
   "cell_type": "code",
   "execution_count": null,
   "id": "988e9519",
   "metadata": {},
   "outputs": [],
   "source": [
    "# Group tags by movieId and combine all tags into one string separated by space\n",
    "tags_agg = tags_data.groupby('movieId')['tag'].apply(lambda x: ' '.join(x.str.lower().unique())).reset_index()\n",
    "\n",
    "# Merge aggregated tags into movies_data on movieId\n",
    "movies_data = movies_data.merge(tags_agg, on='movieId', how='left')\n",
    "\n",
    "# Fill NaN tags with empty string (movies with no tags)\n",
    "movies_data['tag'] = movies_data['tag'].fillna('')\n",
    "\n",
    "# Optionally, update your 'text' column to include tags as well\n",
    "movies_data['text'] = movies_data['text'] + ' ' + movies_data['tag']\n",
    "\n"
   ]
  },
  {
   "cell_type": "code",
   "execution_count": 33,
   "id": "eee7c5f5",
   "metadata": {},
   "outputs": [
    {
     "name": "stdout",
     "output_type": "stream",
     "text": [
      "(9742, 6)\n"
     ]
    },
    {
     "data": {
      "text/html": [
       "<div>\n",
       "<style scoped>\n",
       "    .dataframe tbody tr th:only-of-type {\n",
       "        vertical-align: middle;\n",
       "    }\n",
       "\n",
       "    .dataframe tbody tr th {\n",
       "        vertical-align: top;\n",
       "    }\n",
       "\n",
       "    .dataframe thead th {\n",
       "        text-align: right;\n",
       "    }\n",
       "</style>\n",
       "<table border=\"1\" class=\"dataframe\">\n",
       "  <thead>\n",
       "    <tr style=\"text-align: right;\">\n",
       "      <th></th>\n",
       "      <th>movieId</th>\n",
       "      <th>title</th>\n",
       "      <th>genres</th>\n",
       "      <th>year</th>\n",
       "      <th>text</th>\n",
       "      <th>tag</th>\n",
       "    </tr>\n",
       "  </thead>\n",
       "  <tbody>\n",
       "    <tr>\n",
       "      <th>0</th>\n",
       "      <td>1</td>\n",
       "      <td>toy story (1995)</td>\n",
       "      <td>adventure animation children comedy fantasy</td>\n",
       "      <td>1995</td>\n",
       "      <td>toy story (1995) adventure animation children ...</td>\n",
       "      <td>pixar fun</td>\n",
       "    </tr>\n",
       "    <tr>\n",
       "      <th>1</th>\n",
       "      <td>2</td>\n",
       "      <td>jumanji (1995)</td>\n",
       "      <td>adventure children fantasy</td>\n",
       "      <td>1995</td>\n",
       "      <td>jumanji (1995) adventure children fantasy 1995...</td>\n",
       "      <td>fantasy magic board game robin williams game</td>\n",
       "    </tr>\n",
       "    <tr>\n",
       "      <th>2</th>\n",
       "      <td>3</td>\n",
       "      <td>grumpier old men (1995)</td>\n",
       "      <td>comedy romance</td>\n",
       "      <td>1995</td>\n",
       "      <td>grumpier old men (1995) comedy romance 1995 mo...</td>\n",
       "      <td>moldy old</td>\n",
       "    </tr>\n",
       "    <tr>\n",
       "      <th>3</th>\n",
       "      <td>4</td>\n",
       "      <td>waiting to exhale (1995)</td>\n",
       "      <td>comedy drama romance</td>\n",
       "      <td>1995</td>\n",
       "      <td>waiting to exhale (1995) comedy drama romance ...</td>\n",
       "      <td></td>\n",
       "    </tr>\n",
       "    <tr>\n",
       "      <th>4</th>\n",
       "      <td>5</td>\n",
       "      <td>father of the bride part ii (1995)</td>\n",
       "      <td>comedy</td>\n",
       "      <td>1995</td>\n",
       "      <td>father of the bride part ii (1995) comedy 1995...</td>\n",
       "      <td>pregnancy remake</td>\n",
       "    </tr>\n",
       "    <tr>\n",
       "      <th>5</th>\n",
       "      <td>6</td>\n",
       "      <td>heat (1995)</td>\n",
       "      <td>action crime thriller</td>\n",
       "      <td>1995</td>\n",
       "      <td>heat (1995) action crime thriller 1995</td>\n",
       "      <td></td>\n",
       "    </tr>\n",
       "  </tbody>\n",
       "</table>\n",
       "</div>"
      ],
      "text/plain": [
       "   movieId                               title  \\\n",
       "0        1                    toy story (1995)   \n",
       "1        2                      jumanji (1995)   \n",
       "2        3             grumpier old men (1995)   \n",
       "3        4            waiting to exhale (1995)   \n",
       "4        5  father of the bride part ii (1995)   \n",
       "5        6                         heat (1995)   \n",
       "\n",
       "                                        genres  year  \\\n",
       "0  adventure animation children comedy fantasy  1995   \n",
       "1                   adventure children fantasy  1995   \n",
       "2                               comedy romance  1995   \n",
       "3                         comedy drama romance  1995   \n",
       "4                                       comedy  1995   \n",
       "5                        action crime thriller  1995   \n",
       "\n",
       "                                                text  \\\n",
       "0  toy story (1995) adventure animation children ...   \n",
       "1  jumanji (1995) adventure children fantasy 1995...   \n",
       "2  grumpier old men (1995) comedy romance 1995 mo...   \n",
       "3  waiting to exhale (1995) comedy drama romance ...   \n",
       "4  father of the bride part ii (1995) comedy 1995...   \n",
       "5            heat (1995) action crime thriller 1995    \n",
       "\n",
       "                                            tag  \n",
       "0                                     pixar fun  \n",
       "1  fantasy magic board game robin williams game  \n",
       "2                                     moldy old  \n",
       "3                                                \n",
       "4                              pregnancy remake  \n",
       "5                                                "
      ]
     },
     "execution_count": 33,
     "metadata": {},
     "output_type": "execute_result"
    }
   ],
   "source": [
    "print(movies_data.shape)\n",
    "movies_data.head(6)\n"
   ]
  },
  {
   "cell_type": "code",
   "execution_count": 29,
   "id": "25b3250f",
   "metadata": {},
   "outputs": [],
   "source": [
    "movies_data.to_csv('..\\data\\cleaned_movies.csv', index=False)\n"
   ]
  }
 ],
 "metadata": {
  "kernelspec": {
   "display_name": "Python 3",
   "language": "python",
   "name": "python3"
  },
  "language_info": {
   "codemirror_mode": {
    "name": "ipython",
    "version": 3
   },
   "file_extension": ".py",
   "mimetype": "text/x-python",
   "name": "python",
   "nbconvert_exporter": "python",
   "pygments_lexer": "ipython3",
   "version": "3.8.10"
  }
 },
 "nbformat": 4,
 "nbformat_minor": 5
}
