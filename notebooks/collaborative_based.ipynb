{
 "cells": [
  {
   "cell_type": "code",
   "execution_count": 1,
   "id": "61a88664",
   "metadata": {},
   "outputs": [],
   "source": [
    "import pandas as pd\n",
    "import numpy as np"
   ]
  },
  {
   "cell_type": "code",
   "execution_count": null,
   "id": "5cdf9fe4",
   "metadata": {},
   "outputs": [],
   "source": [
    "rating_data = pd.read_csv(r\"..\\data\\ratings.csv\")"
   ]
  },
  {
   "cell_type": "code",
   "execution_count": 10,
   "id": "b93bc1aa",
   "metadata": {},
   "outputs": [
    {
     "name": "stdout",
     "output_type": "stream",
     "text": [
      "RMSE: 0.8793\n",
      "RMSE: 0.879338835505816\n",
      "MAE:  0.6746\n",
      "MAE: 0.6745733942544827\n",
      "User 1: Original rating = None, Predicted rating = 4.12\n",
      "User 2: Original rating = None, Predicted rating = 3.93\n",
      "User 3: Original rating = None, Predicted rating = 2.74\n",
      "User 4: Original rating = None, Predicted rating = 3.58\n",
      "User 5: Original rating = None, Predicted rating = 3.26\n",
      "User 6: Original rating = 3.0, Predicted rating = 3.78\n",
      "User 7: Original rating = None, Predicted rating = 3.35\n",
      "User 8: Original rating = 2.0, Predicted rating = 3.07\n",
      "User 9: Original rating = None, Predicted rating = 3.08\n",
      "User 10: Original rating = None, Predicted rating = 3.30\n"
     ]
    }
   ],
   "source": [
    "from surprise import Dataset, Reader, SVD\n",
    "from surprise.model_selection import train_test_split\n",
    "from surprise import accuracy\n",
    "\n",
    "# 1. Prepare the data\n",
    "reader = Reader(rating_scale=(rating_data['rating'].min(), rating_data['rating'].max()))\n",
    "data = Dataset.load_from_df(rating_data[['userId', 'movieId', 'rating']], reader)\n",
    "\n",
    "# 2. Split into train and test sets\n",
    "trainset, testset = train_test_split(data, test_size=0.2, random_state=42)\n",
    "\n",
    "# 3. Train the SVD model\n",
    "svd = SVD()\n",
    "svd.fit(trainset)\n",
    "\n",
    "# 4. Evaluate performance on test set\n",
    "predictions = svd.test(testset)\n",
    "print('RMSE:', accuracy.rmse(predictions))\n",
    "print('MAE:', accuracy.mae(predictions))\n",
    "\n",
    "# 5. Predict rating for a user-movie pair\n",
    "def predict_rating(user_id, movie_id):\n",
    "    pred = svd.predict(user_id, movie_id)\n",
    "    return pred.est\n",
    "\n",
    "for user_id in range(1, 11):\n",
    "    pred_rating = predict_rating(user_id, 10)\n",
    "    \n",
    "    # Get original rating if exists\n",
    "    original_rating = rating_data[\n",
    "        (rating_data['userId'] == user_id) & (rating_data['movieId'] == 10)\n",
    "    ]['rating']\n",
    "    \n",
    "    original_rating = original_rating.values[0] if not original_rating.empty else None\n",
    "    \n",
    "    print(f\"User {user_id}: Original rating = {original_rating}, Predicted rating = {pred_rating:.2f}\")\n",
    "\n",
    "    \n",
    "\n"
   ]
  },
  {
   "cell_type": "code",
   "execution_count": 11,
   "id": "576a8eb0",
   "metadata": {},
   "outputs": [],
   "source": [
    "import pickle\n",
    "\n",
    "\n",
    "with open(r'..\\data\\svd_model.pkl', 'wb') as f:\n",
    "    pickle.dump(svd, f)"
   ]
  }
 ],
 "metadata": {
  "kernelspec": {
   "display_name": "Python 3",
   "language": "python",
   "name": "python3"
  },
  "language_info": {
   "codemirror_mode": {
    "name": "ipython",
    "version": 3
   },
   "file_extension": ".py",
   "mimetype": "text/x-python",
   "name": "python",
   "nbconvert_exporter": "python",
   "pygments_lexer": "ipython3",
   "version": "3.8.10"
  }
 },
 "nbformat": 4,
 "nbformat_minor": 5
}
